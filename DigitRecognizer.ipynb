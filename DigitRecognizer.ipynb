{
  "nbformat": 4,
  "nbformat_minor": 0,
  "metadata": {
    "colab": {
      "provenance": []
    },
    "kernelspec": {
      "name": "python3",
      "display_name": "Python 3"
    },
    "language_info": {
      "name": "python"
    }
  },
  "cells": [
    {
      "cell_type": "code",
      "execution_count": null,
      "metadata": {
        "id": "yntjWHWR4lkx"
      },
      "outputs": [],
      "source": [
        "import warnings\n",
        "\n",
        "import numpy as np\n",
        "import pandas as pd\n",
        "from matplotlib import pyplot as plt\n",
        "from sklearn.dummy import DummyClassifier\n",
        "from sklearn.svm import SVC\n",
        "from sklearn.ensemble import RandomForestClassifier\n",
        "from sklearn.neighbors import KNeighborsClassifier\n",
        "from sklearn.compose import make_column_transformer\n",
        "from sklearn.linear_model import LogisticRegression\n",
        "from sklearn.tree import DecisionTreeClassifier\n",
        "from sklearn.neural_network import MLPClassifier\n",
        "from sklearn.preprocessing import StandardScaler\n",
        "from sklearn.model_selection import GridSearchCV, cross_validate, train_test_split, RandomizedSearchCV\n",
        "from sklearn.pipeline import Pipeline, make_pipeline\n",
        "\n",
        "# read in training and test data downloaded from Kaggle\n",
        "train = pd.read_csv(\"data/train.csv\")\n",
        "test = pd.read_csv(\"data/test.csv\")\n",
        "\n",
        "# split the train data into X and y\n",
        "y = train[\"label\"]\n",
        "X = train.drop(\"label\",axis = 1)\n",
        "# relabeled test data\n",
        "X_test = test\n",
        "\n",
        "# scaler makes the models worse, do not use\n",
        "# scaler = StandardScaler()"
      ]
    },
    {
      "cell_type": "code",
      "source": [
        "# plot with counts from target column\n",
        "vc = y.value_counts()\n",
        "vc.plot(kind='bar')"
      ],
      "metadata": {
        "id": "a0dhyXLm3lNe"
      },
      "execution_count": null,
      "outputs": []
    },
    {
      "cell_type": "code",
      "source": [
        "# function from homeworks\n",
        "def mean_std_cross_val_scores(model, X_train, y_train, **kwargs):\n",
        "    \"\"\"\n",
        "    Returns mean and std of cross validation\n",
        "\n",
        "    Parameters\n",
        "    ----------\n",
        "    model :\n",
        "        scikit-learn model\n",
        "    X_train : numpy array or pandas DataFrame\n",
        "        X in the training data\n",
        "    y_train :\n",
        "        y in the training data\n",
        "\n",
        "    Returns\n",
        "    ----------\n",
        "        pandas Series with mean scores from cross_validation\n",
        "    \"\"\"\n",
        "\n",
        "    scores = cross_validate(model, X_train, y_train, **kwargs)\n",
        "\n",
        "    mean_scores = pd.DataFrame(scores).mean()\n",
        "    std_scores = pd.DataFrame(scores).std()\n",
        "    out_col = []\n",
        "\n",
        "    for i in range(len(mean_scores)):\n",
        "        out_col.append((f\"%0.3f (+/- %0.3f)\" %\n",
        "                       (mean_scores[i], std_scores[i])))\n",
        "\n",
        "    return pd.Series(data=out_col, index=mean_scores.index)"
      ],
      "metadata": {
        "id": "Rc9lsEpF44FY"
      },
      "execution_count": null,
      "outputs": []
    },
    {
      "cell_type": "code",
      "source": [
        "# first attempt at creating a knn model\n",
        "# used simple 2 neighbors and found the cross validation scores\n",
        "knn = KNeighborsClassifier(n_neighbors=2)\n",
        "cv_score = mean_std_cross_val_scores(knn, X, y, cv=2, return_train_score=True)"
      ],
      "metadata": {
        "id": "_Whzq0ZVI8f5"
      },
      "execution_count": null,
      "outputs": []
    },
    {
      "cell_type": "code",
      "source": [
        "print(cv_score)"
      ],
      "metadata": {
        "id": "9Z0agRgTJCUd"
      },
      "execution_count": null,
      "outputs": []
    },
    {
      "cell_type": "code",
      "source": [
        "# created grid search between 2 and 5 neighbors for knn model\n",
        "# checked ot see which was the best parameter for knn model\n",
        "# 731 seconds to run this\n",
        "params = [2,3,4,5]\n",
        "scores = {}\n",
        "for param in params:\n",
        "    knn_adjust = KNeighborsClassifier(n_neighbors=param)\n",
        "    scores[param] = mean_std_cross_val_scores(knn_adjust, X, y, cv=3, return_train_score=True)"
      ],
      "metadata": {
        "id": "gpGz-UnoJEzD"
      },
      "execution_count": null,
      "outputs": []
    },
    {
      "cell_type": "code",
      "source": [
        "display(pd.DataFrame(scores))"
      ],
      "metadata": {
        "id": "JkZWFjxnJIJ2"
      },
      "execution_count": null,
      "outputs": []
    },
    {
      "cell_type": "code",
      "source": [
        "# knn model with hyperparameterized n neighbors\n",
        "knn = KNeighborsClassifier(n_neighbors=3)\n",
        "knn.fit(X,y)\n",
        "test = knn.predict(X_test)"
      ],
      "metadata": {
        "id": "ZoEZiVC5JJHu"
      },
      "execution_count": null,
      "outputs": []
    },
    {
      "cell_type": "code",
      "source": [
        "# transforming data frame into correct csv file for submission\n",
        "df = pd.DataFrame(test, columns=[\"Label\"])\n",
        "df.index += 1\n",
        "df.index.name = \"ImageId\"\n",
        "out = df.to_csv('data/sumbmission_knn.csv')"
      ],
      "metadata": {
        "id": "EMznRyIGJLUH"
      },
      "execution_count": null,
      "outputs": []
    },
    {
      "cell_type": "code",
      "source": [
        "# knn model without hyperparameterized n neighbors\n",
        "knn = KNeighborsClassifier()\n",
        "knn.fit(X,y)\n",
        "test = knn.predict(X_test)"
      ],
      "metadata": {
        "id": "oUAzPvAn2f4k"
      },
      "execution_count": null,
      "outputs": []
    },
    {
      "cell_type": "code",
      "source": [
        "# transforming data frame into correct csv file for submission\n",
        "df = pd.DataFrame(test, columns=[\"Label\"])\n",
        "df.index += 1\n",
        "df.index.name = \"ImageId\"\n",
        "out = df.to_csv('data/sumbmission_knn_nohy.csv')"
      ],
      "metadata": {
        "id": "vCY58L3P2ik-"
      },
      "execution_count": null,
      "outputs": []
    },
    {
      "cell_type": "code",
      "source": [
        "# decision tree without hyperparameterized max depth\n",
        "dt = DecisionTreeClassifier()\n",
        "dt.fit(X,y)\n",
        "test = dt.predict(X_test)"
      ],
      "metadata": {
        "id": "DU7pD9qjJN2s"
      },
      "execution_count": null,
      "outputs": []
    },
    {
      "cell_type": "code",
      "source": [
        "# transforming data frame into correct csv file for submission\n",
        "df = pd.DataFrame(test, columns=[\"Label\"])\n",
        "df.index += 1\n",
        "df.index.name = \"ImageId\"\n",
        "out = df.to_csv('data/sumbmission_dt.csv')"
      ],
      "metadata": {
        "id": "txcAN3tLJRW_"
      },
      "execution_count": null,
      "outputs": []
    },
    {
      "cell_type": "code",
      "source": [
        "# decision tree with hyperparameterized max depth = 14\n",
        "dt = DecisionTreeClassifier(max_depth=14)\n",
        "dt.fit(X,y)\n",
        "test = dt.predict(X_test)"
      ],
      "metadata": {
        "id": "9nwvItFh2qXM"
      },
      "execution_count": null,
      "outputs": []
    },
    {
      "cell_type": "code",
      "source": [
        "# transforming data frame into correct csv file for submission\n",
        "df = pd.DataFrame(test, columns=[\"Label\"])\n",
        "df.index += 1\n",
        "df.index.name = \"ImageId\"\n",
        "out = df.to_csv('data/sumbmission_dt_14.csv')"
      ],
      "metadata": {
        "id": "raMNWYAs2vSV"
      },
      "execution_count": null,
      "outputs": []
    },
    {
      "cell_type": "code",
      "source": [
        "# Logistic Regression model with solver = lbfgs and max_iter = 10000\n",
        "LogReg = LogisticRegression(solver='lbfgs',max_iter = 10000)\n",
        "LogReg.fit(X,y)\n",
        "\n",
        "Result = LogReg.predict(X_test)\n",
        "Result = pd.Series(Result,name=\"Label\")\n",
        "\n",
        "df = pd.DataFrame(Result, columns=[\"Label\"])\n",
        "df.index += 1\n",
        "df.index.name = \"ImageId\"\n",
        "out = df.to_csv('data/LRSubmission.csv')"
      ],
      "metadata": {
        "id": "ecEe_WyOKV2F"
      },
      "execution_count": null,
      "outputs": []
    },
    {
      "cell_type": "code",
      "source": [
        "# Logistic Regression model with solver = lbfgs and max_iter = 200\n",
        "LogReg = LogisticRegression(solver='lbfgs',max_iter = 200)\n",
        "lrpipe = make_pipeline(scaler, LogReg)\n",
        "LogReg.fit(X,y)"
      ],
      "metadata": {
        "id": "NFCREyzWLcTp"
      },
      "execution_count": null,
      "outputs": []
    },
    {
      "cell_type": "markdown",
      "source": [
        "Grid searches with decision tree classifier. They are separated since an error was given for too little memory. The grid search is used between 1 and 30"
      ],
      "metadata": {
        "id": "H-pCRTqW3OJu"
      }
    },
    {
      "cell_type": "code",
      "source": [
        "param_grid = {\n",
        "    \"max_depth\": range(1,10,1)\n",
        "}\n",
        "best_ps = {\"max_depth\": 5}\n",
        "pipe_grid = DecisionTreeClassifier(**best_ps)\n",
        "grid_search = GridSearchCV(pipe_grid, param_grid, cv=5, n_jobs=-1, return_train_score=True)\n",
        "grid_search.fit(X, y)\n",
        "\n",
        "print(f\"Best score: {grid_search.best_score_} Best Params: {grid_search.best_params_}\")"
      ],
      "metadata": {
        "id": "1vSfbKzn3O51"
      },
      "execution_count": null,
      "outputs": []
    },
    {
      "cell_type": "code",
      "source": [
        "param_grid = {\n",
        "    \"max_depth\": range(11,15,1)\n",
        "}\n",
        "best_ps = {\"max_depth\": 5}\n",
        "pipe_grid = DecisionTreeClassifier(**best_ps)\n",
        "grid_search = GridSearchCV(pipe_grid, param_grid, cv=5, n_jobs=-1, return_train_score=True)\n",
        "grid_search.fit(X, y)\n",
        "\n",
        "print(f\"Best score: {grid_search.best_score_} Best Params: {grid_search.best_params_}\")"
      ],
      "metadata": {
        "id": "SP0hUTr43Utn"
      },
      "execution_count": null,
      "outputs": []
    },
    {
      "cell_type": "code",
      "source": [
        "param_grid = {\n",
        "    \"max_depth\": range(15,20,1)\n",
        "}\n",
        "best_ps = {\"max_depth\": 5}\n",
        "pipe_grid = DecisionTreeClassifier(**best_ps)\n",
        "grid_search = GridSearchCV(pipe_grid, param_grid, cv=5, n_jobs=-1, return_train_score=True)\n",
        "grid_search.fit(X, y)\n",
        "\n",
        "print(f\"Best score: {grid_search.best_score_} Best Params: {grid_search.best_params_}\")"
      ],
      "metadata": {
        "id": "7YlI3HRK3X3u"
      },
      "execution_count": null,
      "outputs": []
    },
    {
      "cell_type": "code",
      "source": [
        "param_grid = {\n",
        "    \"max_depth\": range(21,25,1)\n",
        "}\n",
        "best_ps = {\"max_depth\": 5}\n",
        "pipe_grid = DecisionTreeClassifier(**best_ps)\n",
        "grid_search = GridSearchCV(pipe_grid, param_grid, cv=5, n_jobs=-1, return_train_score=True)\n",
        "grid_search.fit(X, y)\n",
        "\n",
        "print(f\"Best score: {grid_search.best_score_} Best Params: {grid_search.best_params_}\")"
      ],
      "metadata": {
        "id": "cg0qZoXv3bns"
      },
      "execution_count": null,
      "outputs": []
    },
    {
      "cell_type": "code",
      "source": [
        "param_grid = {\n",
        "    \"max_depth\": range(26,30,1)\n",
        "}\n",
        "best_ps = {\"max_depth\": 5}\n",
        "pipe_grid = DecisionTreeClassifier(**best_ps)\n",
        "grid_search = GridSearchCV(pipe_grid, param_grid, cv=5, n_jobs=-1, return_train_score=True)\n",
        "grid_search.fit(X, y)\n",
        "\n",
        "print(f\"Best score: {grid_search.best_score_} Best Params: {grid_search.best_params_}\")"
      ],
      "metadata": {
        "id": "LWqdxsG73gHR"
      },
      "execution_count": null,
      "outputs": []
    },
    {
      "cell_type": "markdown",
      "source": [
        "Grid searches with knn classifier.\n",
        "They are separated since an error was given for too little memory.\n",
        "The grid search is used between 1 and 20."
      ],
      "metadata": {
        "id": "u7RyH3293ptV"
      }
    },
    {
      "cell_type": "code",
      "source": [
        "param_grid = {\n",
        "    \"n_neighbors\": range(1,5,1)\n",
        "}\n",
        "best_ps = {\"n_neighbors\": 5}\n",
        "pipe_grid = mKNeighborsClassifier(**best_ps)\n",
        "grid_search = GridSearchCV(pipe_grid, param_grid, cv=3, n_jobs=-1, return_train_score=True)\n",
        "grid_search.fit(X, y)\n",
        "\n",
        "print(f\"Best score: {grid_search.best_score_} Best Params: {grid_search.best_params_}\")"
      ],
      "metadata": {
        "id": "93b2Majg3sv0"
      },
      "execution_count": null,
      "outputs": []
    },
    {
      "cell_type": "code",
      "source": [
        "param_grid = {\n",
        "    \"n_neighbors\": range(6,10,1)\n",
        "}\n",
        "best_ps = {\"n_neighbors\": 5}\n",
        "pipe_grid = KNeighborsClassifier(**best_ps)\n",
        "grid_search = GridSearchCV(pipe_grid, param_grid, cv=3, n_jobs=-1, return_train_score=True)\n",
        "grid_search.fit(X, y)\n",
        "\n",
        "print(f\"Best score: {grid_search.best_score_} Best Params: {grid_search.best_params_}\")"
      ],
      "metadata": {
        "id": "IKPY_Hyo3wFQ"
      },
      "execution_count": null,
      "outputs": []
    },
    {
      "cell_type": "code",
      "source": [
        "param_grid = {\n",
        "    \"n_neighbors\": range(11,15,1)\n",
        "}\n",
        "best_ps = {\"n_neighbors\": 5}\n",
        "pipe_grid = KNeighborsClassifier(**best_ps)\n",
        "grid_search = GridSearchCV(pipe_grid, param_grid, cv=3, n_jobs=-1, return_train_score=True)\n",
        "grid_search.fit(X, y)\n",
        "\n",
        "print(f\"Best score: {grid_search.best_score_} Best Params: {grid_search.best_params_}\")"
      ],
      "metadata": {
        "id": "uHq4rLA53ywK"
      },
      "execution_count": null,
      "outputs": []
    },
    {
      "cell_type": "code",
      "source": [
        "param_grid = {\n",
        "    \"n_neighbors\": range(16,20,1)\n",
        "}\n",
        "best_ps = {\"n_neighbors\": 5}\n",
        "pipe_grid = KNeighborsClassifier(**best_ps)\n",
        "grid_search = GridSearchCV(pipe_grid, param_grid, cv=3, n_jobs=-1, return_train_score=True)\n",
        "grid_search.fit(X, y)\n",
        "\n",
        "print(f\"Best score: {grid_search.best_score_} Best Params: {grid_search.best_params_}\")"
      ],
      "metadata": {
        "id": "tZAZor6N314V"
      },
      "execution_count": null,
      "outputs": []
    },
    {
      "cell_type": "markdown",
      "source": [
        "Neural Network Classifier with default hyperparameters"
      ],
      "metadata": {
        "id": "vUVj1H0dEpo3"
      }
    },
    {
      "cell_type": "code",
      "source": [
        "# Baseline of MLPClassifier\n",
        "MLP = MLPClassifier()\n",
        "scores = mean_std_cross_val_scores(MLP, X, y, cv = 5, return_train_score=True)\n",
        "print(scores)"
      ],
      "metadata": {
        "id": "xkRse5fcEugQ"
      },
      "execution_count": null,
      "outputs": []
    },
    {
      "cell_type": "code",
      "source": [
        "MLP.fit(X, y)\n",
        "MLP_output = MLP.predict(X_test)\n",
        "df = pd.DataFrame(MLP_output, columns=[\"Label\"])\n",
        "df.index += 1\n",
        "df.index.name = \"ImageId\"\n",
        "df.to_csv('data/sumbmission_MLP_Unoptimized.csv')"
      ],
      "metadata": {
        "id": "ychQdUtYFuar"
      },
      "execution_count": null,
      "outputs": []
    },
    {
      "cell_type": "markdown",
      "source": [
        "Grid Search Optimization of the MLPClassifier.\n",
        "Split into two sections to save time.\n"
      ],
      "metadata": {
        "id": "45-b9bfQGViW"
      }
    },
    {
      "cell_type": "code",
      "source": [
        "mlp = MLPClassifier(max_iter=1000000)\n",
        "mlp_pipe = make_pipeline(StandardScaler(), mlp)\n",
        "\n",
        "param_dist = {\n",
        "    'mlpclassifier__alpha': [0.0001, 0.001, 0.01, 0.05, 0.1, 0.5, 0.75, 0.9],\n",
        "    'mlpclassifier__solver': ['sgd', 'adam', 'lbfgs'],\n",
        "    'mlpclassifier__activation': ['identity', 'logistic', 'tanh', 'relu'],\n",
        "    'mlpclassifier__learning_rate': ['constant', 'invscaling', 'adaptive']\n",
        "}\n",
        "\n",
        "grid = GridSearchCV(mlp_pipe, param_dist, n_jobs=-1, cv=2)\n",
        "grid.fit(X, y)\n",
        "\n",
        "print(grid.best_score_)\n",
        "print(grid.best_params_)"
      ],
      "metadata": {
        "id": "U4j202tSGgOD"
      },
      "execution_count": null,
      "outputs": []
    },
    {
      "cell_type": "code",
      "source": [
        "mlp = MLPClassifier(max_iter=1000000, activation='relu', solver='adam', alpha=0.05)\n",
        "\n",
        "one_layer = [(100), (300), (500)]\n",
        "two_layer = [(100, 100), (300, 300), (500, 500)]\n",
        "three_layer = [(100, 100, 100), (300, 300, 300), (500, 500, 500)]\n",
        "\n",
        "param_dist = {\n",
        "    'mlpclassifier__hidden_layer_sizes': one_layer+two_layer+three_layer,\n",
        "}\n",
        "\n",
        "new_grid = GridSearchCV(mlp, param_dist, n_iter=20, n_jobs=-1, cv=2)\n",
        "new_grid.fit(X, y)\n",
        "\n",
        "print(new_grid.best_score_)\n",
        "print(new_grid.best_params_)"
      ],
      "metadata": {
        "id": "tVwyEjMNGsdC"
      },
      "execution_count": null,
      "outputs": []
    },
    {
      "cell_type": "markdown",
      "source": [
        "MLPClassifier with Best Hyperparameters"
      ],
      "metadata": {
        "id": "FD7U9OtJG87K"
      }
    },
    {
      "cell_type": "code",
      "source": [
        "optimized_mlp = MLPClassifier(max_iter=1000000, activation='relu', solver='adam', learning_rate='adaptive',\n",
        "                        hidden_layer_sizes=(500,500), alpha=0.5)\n",
        "\n",
        "optimized_mlp.fit(X, y)\n",
        "optimized_mlp_out = opt_mlp.predict(X_test)\n",
        "\n",
        "df = pd.DataFrame(optimized_mlp_out, columns=[\"Label\"])\n",
        "df.index += 1\n",
        "df.index.name = \"ImageId\"\n",
        "df.to_csv('data/sumbmission_MLP_optimized.csv')"
      ],
      "metadata": {
        "id": "bocsHB_dHDEL"
      },
      "execution_count": null,
      "outputs": []
    },
    {
      "cell_type": "code",
      "source": [
        "# SVC Classifier with kernel = rbf c = 1 gamma = scale and random state = 123\n",
        "svc_classifier = SVC(kernel='rbf', C=1.0, gamma='scale', random_state=123)\n",
        "\n",
        "svc_classifier.fit(X, y)\n",
        "y_pred = svc_classifier.predict(X_test)"
      ],
      "metadata": {
        "id": "a_2J4aMqurxO"
      },
      "execution_count": null,
      "outputs": []
    },
    {
      "cell_type": "code",
      "source": [
        "# transforming data frame for Kaggle submission\n",
        "df = pd.DataFrame(y_pred, columns=[\"Label\"])\n",
        "df.index += 1\n",
        "df.index.name = \"ImageId\"\n",
        "out = df.to_csv('data/SVC.csv')"
      ],
      "metadata": {
        "id": "NJLg_eDLu-8d"
      },
      "execution_count": null,
      "outputs": []
    },
    {
      "cell_type": "code",
      "source": [
        "# Random forest model\n",
        "RF = RandomForestClassifier(n_estimators=1000, random_state=123)\n",
        "RF.fit(X,y)\n",
        "Result = RF.predict(X_test)\n",
        "Result = pd.Series(Result,name=\"Label\")"
      ],
      "metadata": {
        "id": "Vr3f8gXbvHQB"
      },
      "execution_count": null,
      "outputs": []
    },
    {
      "cell_type": "code",
      "source": [
        "# transforming data frame for Kaggle submission\n",
        "df = pd.DataFrame(Result, columns=[\"Label\"])\n",
        "df.index += 1\n",
        "df.index.name = \"ImageId\"\n",
        "out = df.to_csv('data/RF.csv')"
      ],
      "metadata": {
        "id": "wr_mWwLBvX5F"
      },
      "execution_count": null,
      "outputs": []
    }
  ]
}